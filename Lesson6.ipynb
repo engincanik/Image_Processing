{
 "cells": [
  {
   "cell_type": "code",
   "execution_count": 20,
   "metadata": {},
   "outputs": [
    {
     "name": "stdout",
     "output_type": "stream",
     "text": [
      "[[0 1 0 1 1 1 1 0 1 0 0 0 1 1 0 0 0 1 1 0 1 0 1 1 0 1 0 1]\n",
      " [0 0 0 0 0 1 0 1 1 1 1 0 0 1 1 1 1 1 1 1 0 1 0 0 0 1 1 0]\n",
      " [1 1 0 0 0 1 1 1 1 1 0 0 0 1 0 0 1 0 1 1 0 0 0 1 1 1 0 0]\n",
      " [0 1 1 1 0 1 0 0 0 0 0 1 0 1 1 1 0 0 1 0 0 1 1 1 0 1 1 1]\n",
      " [0 0 1 0 0 1 0 0 1 1 1 1 1 0 1 0 0 1 1 0 1 0 0 0 1 0 1 1]\n",
      " [0 1 0 1 1 0 1 1 1 1 0 0 0 0 1 1 1 1 0 1 0 1 0 1 0 0 0 1]\n",
      " [0 1 1 1 1 0 1 1 0 0 0 1 0 1 1 1 0 0 1 0 1 1 1 0 0 0 0 1]\n",
      " [1 1 1 1 0 1 1 0 0 1 0 1 0 0 1 1 0 1 1 0 0 1 1 1 0 1 1 0]\n",
      " [0 0 0 1 0 0 1 0 0 1 1 1 1 1 0 1 1 0 1 1 1 0 1 0 0 1 1 1]\n",
      " [1 0 0 0 1 1 1 0 0 0 0 0 1 1 0 0 0 1 1 1 0 0 1 0 0 1 1 0]\n",
      " [1 0 0 0 0 1 0 1 0 1 1 1 0 0 0 0 1 0 0 0 0 0 0 1 0 1 1 1]\n",
      " [1 0 1 1 1 0 1 0 1 0 1 1 1 0 0 1 1 1 1 0 0 0 0 0 0 0 1 1]\n",
      " [1 0 1 0 0 1 1 0 1 1 1 0 0 0 1 1 1 1 0 0 0 0 1 1 0 1 1 0]\n",
      " [1 1 1 0 0 0 0 1 1 1 0 1 0 1 0 0 0 0 0 1 0 1 1 1 1 1 0 0]\n",
      " [1 0 1 1 1 0 0 1 0 1 0 0 0 1 0 0 0 1 1 0 1 0 0 1 1 0 1 1]\n",
      " [0 0 1 0 0 0 0 1 1 1 1 1 0 0 1 0 1 1 1 0 1 1 1 1 0 1 1 0]\n",
      " [1 1 1 1 1 1 0 0 0 1 1 0 0 0 1 1 0 1 0 1 1 1 1 0 0 0 0 0]\n",
      " [0 0 0 0 1 1 1 1 0 1 0 0 1 1 1 0 1 0 1 0 1 0 1 1 0 1 1 1]\n",
      " [0 0 1 0 0 0 1 1 1 1 0 1 0 1 0 0 1 1 1 0 1 0 0 1 1 1 1 1]\n",
      " [1 0 0 0 0 1 1 0 1 0 1 0 1 0 0 1 0 0 0 0 1 0 1 1 0 0 1 1]\n",
      " [1 1 1 1 0 1 0 1 0 1 0 1 1 0 0 1 1 1 0 0 0 0 1 0 0 0 1 1]\n",
      " [1 0 1 0 1 0 0 0 0 1 1 0 0 1 1 1 1 0 1 1 0 0 0 0 0 1 0 1]\n",
      " [1 0 1 0 1 1 0 0 0 1 0 0 1 0 1 0 0 0 0 0 1 0 1 0 1 1 1 1]\n",
      " [1 0 0 1 0 0 0 0 0 0 1 0 1 0 1 1 0 1 0 1 0 0 1 0 1 1 0 1]\n",
      " [0 1 1 0 0 0 0 0 1 0 0 0 0 0 1 0 0 1 0 0 1 0 1 0 0 1 0 0]\n",
      " [1 1 1 0 1 0 1 0 0 0 0 0 0 1 1 1 1 1 0 1 0 0 1 0 0 0 1 1]\n",
      " [0 1 0 0 0 1 0 0 1 0 0 0 1 1 0 0 0 0 1 0 0 1 1 0 0 0 1 0]\n",
      " [0 0 0 1 1 1 1 0 1 1 1 0 0 0 1 0 1 0 0 1 0 1 1 0 0 1 0 0]]\n"
     ]
    }
   ],
   "source": [
    "import matplotlib.pyplot as plt\n",
    "import numpy as np\n",
    "import random as random\n",
    "\n",
    "def matris_c():\n",
    "    matris = np.random.randint(0,2,(28,28))\n",
    "    return matris\n",
    "print(matris_c())"
   ]
  },
  {
   "cell_type": "code",
   "execution_count": 21,
   "metadata": {},
   "outputs": [
    {
     "name": "stdout",
     "output_type": "stream",
     "text": [
      "(0, 27, 0, 27)\n"
     ]
    }
   ],
   "source": [
    "def mbr_create(matris):\n",
    "    m=matris.shape[0]\n",
    "    n=matris.shape[1]\n",
    "    x_min=m\n",
    "    x_max=0\n",
    "    y_min=n\n",
    "    y_max=0\n",
    "    \n",
    "    for i in range(m):\n",
    "        for j in range(n):\n",
    "            if(matris[i,j]==1 and x_min>i):\n",
    "                x_min=i\n",
    "            if(matris[i,j]==1 and x_max<i):\n",
    "                x_max=i\n",
    "            if(matris[i,j]==1 and y_min>j):\n",
    "                y_min=i\n",
    "            if(matris[i,j]==1 and y_max<j):\n",
    "                y_max=i\n",
    "    return (x_min,x_max,y_min,y_max)\n",
    "print(mbr_create(matris_c()))"
   ]
  },
  {
   "cell_type": "code",
   "execution_count": 22,
   "metadata": {},
   "outputs": [],
   "source": [
    "def get_similarity(character_a,character_b):\n",
    "    m=character_a.shape[0]\n",
    "    n=character_a.shape[1]\n",
    "    \n",
    "    my_similarity=0\n",
    "    \n",
    "    for i in range(m):\n",
    "        for j in range(n):\n",
    "            my_similarity=my_similarity+character_a[i,j]*character_b[i,j]\n",
    "    return my_similarity"
   ]
  },
  {
   "cell_type": "code",
   "execution_count": 25,
   "metadata": {
    "scrolled": true
   },
   "outputs": [
    {
     "name": "stdout",
     "output_type": "stream",
     "text": [
      "194\n"
     ]
    }
   ],
   "source": [
    "print(get_similarity(matris_c(),matris_c()))"
   ]
  },
  {
   "cell_type": "code",
   "execution_count": 37,
   "metadata": {},
   "outputs": [
    {
     "data": {
      "image/png": "[encoded data removed]",
      "text/plain": [
       "<Figure size 432x288 with 1 Axes>"
      ]
     },
     "metadata": {
      "needs_background": "light"
     },
     "output_type": "display_data"
    },
    {
     "name": "stdout",
     "output_type": "stream",
     "text": [
      "En yuksek benzerlik = 204\n"
     ]
    },
    {
     "data": {
      "image/png": "[encoded data removed]",
      "text/plain": [
       "<Figure size 432x288 with 1 Axes>"
      ]
     },
     "metadata": {
      "needs_background": "light"
     },
     "output_type": "display_data"
    }
   ],
   "source": [
    "a = matris_c()\n",
    "plt.imshow(a,cmap=\"gray\")\n",
    "plt.show()\n",
    "\n",
    "max = 0\n",
    "for i in range(100):\n",
    "    b= matris_c()\n",
    "    if(get_similarity(a,b)>max):\n",
    "        max = get_similarity(a,b)\n",
    "        c = b\n",
    "plt.imshow(c,cmap=\"gray\")\n",
    "print(\"En yuksek benzerlik =\",max)      "
   ]
  },
  {
   "cell_type": "code",
   "execution_count": 40,
   "metadata": {},
   "outputs": [
    {
     "name": "stdout",
     "output_type": "stream",
     "text": [
      "362\n"
     ]
    }
   ],
   "source": [
    "print(get_similarity(a,a))"
   ]
  },
  {
   "cell_type": "code",
   "execution_count": null,
   "metadata": {},
   "outputs": [],
   "source": []
  }
 ],
 "metadata": {
  "kernelspec": {
   "display_name": "Python 3",
   "language": "python",
   "name": "python3"
  },
  "language_info": {
   "codemirror_mode": {
    "name": "ipython",
    "version": 3
   },
   "file_extension": ".py",
   "mimetype": "text/x-python",
   "name": "python",
   "nbconvert_exporter": "python",
   "pygments_lexer": "ipython3",
   "version": "3.6.6"
  }
 },
 "nbformat": 4,
 "nbformat_minor": 2
}

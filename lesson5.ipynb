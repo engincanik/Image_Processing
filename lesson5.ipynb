{
 "cells": [
  {
   "cell_type": "code",
   "execution_count": 18,
   "metadata": {},
   "outputs": [],
   "source": [
    "import matplotlib.pyplot as plt\n",
    "import matplotlib.image as mpimg\n",
    "import numpy as np\n",
    "img=mpimg.imread(\"index.png\")"
   ]
  },
  {
   "cell_type": "code",
   "execution_count": 19,
   "metadata": {},
   "outputs": [],
   "source": [
    "def get_distance(v,w=[1/3,1/3,1/3]):\n",
    "    a,b,c=v[0],v[1],v[2]\n",
    "    w1,w2,w3=w[0],w[1],w[2]\n",
    "    d=((a**2)*w1+(b**2)*w2+(c**2)*w3)**.5\n",
    "    return d"
   ]
  },
  {
   "cell_type": "code",
   "execution_count": 20,
   "metadata": {},
   "outputs": [],
   "source": [
    "def convert_rgb_to_gray_level(im_1):\n",
    "    m=im_1.shape[0]\n",
    "    n=im_1.shape[1]\n",
    "    im_2=np.zeros((m,n))\n",
    "    for i in range(m):\n",
    "        for j in range(n):\n",
    "            im_2[i,j]=get_distance(im_1[i,j,:])\n",
    "            \n",
    "    return im_2\n",
    "\n",
    "img_3=convert_rgb_to_gray_level(img)"
   ]
  },
  {
   "cell_type": "code",
   "execution_count": 21,
   "metadata": {},
   "outputs": [
    {
     "data": {
      "text/plain": [
       "(<matplotlib.axes._subplots.AxesSubplot at 0x7f581cacf6a0>,\n",
       " <matplotlib.image.AxesImage at 0x7f581ca506a0>)"
      ]
     },
     "execution_count": 21,
     "metadata": {},
     "output_type": "execute_result"
    },
    {
     "data": {
      "image/png": "[encoded data removed]",
      "text/plain": [
       "<Figure size 432x288 with 2 Axes>"
      ]
     },
     "metadata": {
      "needs_background": "light"
     },
     "output_type": "display_data"
    }
   ],
   "source": [
    "plt.subplot(1,3,1),plt.imshow(img)\n",
    "plt.subplot(1,3,2),plt.imshow(img_3,cmap=\"gray\")"
   ]
  },
  {
   "cell_type": "code",
   "execution_count": 24,
   "metadata": {},
   "outputs": [],
   "source": [
    "def pixel_compenent(img):    \n",
    "    m=img.shape[0]   # black 0  white 1 \n",
    "    n=img.shape[1]\n",
    "    external=0\n",
    "    internal=0\n",
    "    for i in range (1,m-1):\n",
    "        for j in range(1,n-1):\n",
    "            poi=img[i:i+2,j:j+2]\n",
    "            black=0\n",
    "            white=0\n",
    "            for k in range(2):\n",
    "                for l in range(2):\n",
    "                    if poi[k][l]==1:\n",
    "                        black=black+1\n",
    "                    else:\n",
    "                        white=white+1\n",
    "            if(black>white and white>0):\n",
    "                external=external+1\n",
    "            elif(white>black and black>0):\n",
    "                internal=internal+1\n",
    "                \n",
    "    print(external)\n",
    "    print(internal)\n",
    "    print((external-internal)/4)\n"
   ]
  },
  {
   "cell_type": "code",
   "execution_count": 25,
   "metadata": {},
   "outputs": [
    {
     "name": "stdout",
     "output_type": "stream",
     "text": [
      "4\n",
      "0\n",
      "1.0\n"
     ]
    }
   ],
   "source": [
    "pixel_compenent(img_3)"
   ]
  },
  {
   "cell_type": "code",
   "execution_count": null,
   "metadata": {},
   "outputs": [],
   "source": []
  }
 ],
 "metadata": {
  "kernelspec": {
   "display_name": "Python 3",
   "language": "python",
   "name": "python3"
  },
  "language_info": {
   "codemirror_mode": {
    "name": "ipython",
    "version": 3
   },
   "file_extension": ".py",
   "mimetype": "text/x-python",
   "name": "python",
   "nbconvert_exporter": "python",
   "pygments_lexer": "ipython3",
   "version": "3.6.6"
  }
 },
 "nbformat": 4,
 "nbformat_minor": 2
}
